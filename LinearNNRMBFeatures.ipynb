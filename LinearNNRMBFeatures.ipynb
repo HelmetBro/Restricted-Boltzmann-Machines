{
 "cells": [
  {
   "cell_type": "code",
   "execution_count": 9,
   "metadata": {},
   "outputs": [],
   "source": [
    "import torch\n",
    "import torchvision\n",
    "import torchvision.transforms as transforms\n",
    "from rbm import RBM\n",
    "import numpy as np"
   ]
  },
  {
   "cell_type": "code",
   "execution_count": 2,
   "metadata": {},
   "outputs": [],
   "source": [
    "transform = transforms.Compose([transforms.ToTensor()])\n",
    "batch_size = 128\n",
    "\n",
    "trainset = torchvision.datasets.MNIST(root='./data', train=True,download=True, transform=transform)\n",
    "bin_train_x = []\n",
    "bin_train_y = []\n",
    "for i, (x,y) in enumerate(trainset):\n",
    "    x[x>0.5] = 1\n",
    "    x[x<0.5] = 0\n",
    "    bin_train_x.append(x)\n",
    "    bin_train_y.append(torch.tensor(y))\n",
    "bin_train_data = torch.utils.data.TensorDataset(torch.stack(bin_train_x), torch.stack(bin_train_y))\n",
    "trainloader = torch.utils.data.DataLoader(bin_train_data, batch_size=batch_size,\n",
    "                                          shuffle=True, num_workers=2)\n",
    "\n",
    "testset = torchvision.datasets.MNIST(root='./data', train=False, download=True, transform=transform)\n",
    "bin_test_x = []\n",
    "bin_test_y = []\n",
    "for i, (x,y) in enumerate(testset):\n",
    "    x[x>0.5] = 1\n",
    "    x[x<0.5] = 0\n",
    "    bin_test_x.append(x)\n",
    "    bin_test_y.append(torch.tensor(y))\n",
    "bin_test_data = torch.utils.data.TensorDataset(torch.stack(bin_test_x), torch.stack(bin_test_y))\n",
    "testloader = torch.utils.data.DataLoader(bin_test_data, batch_size=batch_size, shuffle=False, num_workers=2)\n",
    "\n",
    "device = torch.device(\"cuda:0\" if torch.cuda.is_available() else \"cpu\")"
   ]
  },
  {
   "cell_type": "code",
   "execution_count": 10,
   "metadata": {},
   "outputs": [],
   "source": [
    "rmb = torch.load(\"./models/bin_k2_500_15iters\").to(device)"
   ]
  },
  {
   "cell_type": "code",
   "execution_count": 11,
   "metadata": {},
   "outputs": [],
   "source": [
    "import torch.nn as nn\n",
    "import torch.nn.functional as F\n",
    "\n",
    "\n",
    "class Net(nn.Module):\n",
    "    def __init__(self):\n",
    "        super(Net, self).__init__()\n",
    "        self.fc1 = nn.Linear(500, 120)\n",
    "        self.fc2 = nn.Linear(120, 84)\n",
    "        self.fc3 = nn.Linear(84, 10)\n",
    "\n",
    "    def forward(self, x):\n",
    "        x = F.relu(self.fc1(x))\n",
    "        x = F.relu(self.fc2(x))\n",
    "        x = self.fc3(x)\n",
    "        return x\n",
    "\n",
    "\n",
    "net = Net().to(device)"
   ]
  },
  {
   "cell_type": "code",
   "execution_count": 12,
   "metadata": {},
   "outputs": [],
   "source": [
    "import torch.optim as optim\n",
    "\n",
    "criterion = nn.CrossEntropyLoss()\n",
    "optimizer = optim.SGD(net.parameters(), lr=0.001, momentum=0.9)"
   ]
  },
  {
   "cell_type": "code",
   "execution_count": 19,
   "metadata": {
    "scrolled": false
   },
   "outputs": [
    {
     "name": "stdout",
     "output_type": "stream",
     "text": [
      "epoch 1 loss: 0.21042371469774226\n",
      "epoch 2 loss: 0.20574578444268912\n",
      "epoch 3 loss: 0.2035207254831979\n",
      "epoch 4 loss: 0.19948548121429455\n",
      "epoch 5 loss: 0.19869840396111454\n",
      "epoch 6 loss: 0.19774184441134365\n",
      "epoch 7 loss: 0.19253657533447627\n",
      "epoch 8 loss: 0.1916420421620676\n",
      "epoch 9 loss: 0.18825506997197422\n",
      "epoch 10 loss: 0.18781734496227967\n",
      "epoch 11 loss: 0.18527372430827319\n",
      "epoch 12 loss: 0.18301729788022764\n",
      "epoch 13 loss: 0.18151527335013407\n",
      "epoch 14 loss: 0.1789666433244753\n",
      "epoch 15 loss: 0.17663834402873826\n",
      "epoch 16 loss: 0.17473675270896477\n",
      "epoch 17 loss: 0.1744324513462815\n",
      "epoch 18 loss: 0.1727280708105325\n",
      "epoch 19 loss: 0.1706992977543045\n",
      "epoch 20 loss: 0.16791899568204688\n",
      "Finished Training\n"
     ]
    }
   ],
   "source": [
    "for epoch in range(20):  # loop over the dataset multiple times\n",
    "\n",
    "    running_loss = 0.0\n",
    "    loss_ = []\n",
    "    for i, data in enumerate(trainloader, 0):\n",
    "        # get the inputs; data is a list of [inputs, labels]\n",
    "        inputs, labels = data\n",
    "\n",
    "        # zero the parameter gradients\n",
    "        optimizer.zero_grad()\n",
    "        \n",
    "        # reshape inputs\n",
    "        inputs = inputs.view(-1, 784)\n",
    "        \n",
    "        # send to gpu\n",
    "        inputs = inputs.to(device)\n",
    "        labels = labels.to(device)\n",
    "        \n",
    "        # convert to h\n",
    "        rmb.eval()\n",
    "        h = rmb.visible_to_hidden(inputs)\n",
    "\n",
    "        # forward + backward + optimize\n",
    "        outputs = net(h)\n",
    "        loss = criterion(outputs, labels)\n",
    "        loss.backward()\n",
    "        optimizer.step()\n",
    "\n",
    "        loss_.append(loss.item())\n",
    "        \n",
    "    print(f\"epoch {epoch+1} loss: {np.mean(loss_)}\")\n",
    "    \n",
    "print('Finished Training')"
   ]
  },
  {
   "cell_type": "code",
   "execution_count": 20,
   "metadata": {},
   "outputs": [
    {
     "name": "stdout",
     "output_type": "stream",
     "text": [
      "Accuracy of the network on the 10000 test images: 0.9467\n"
     ]
    }
   ],
   "source": [
    "correct = 0\n",
    "total = 0\n",
    "with torch.no_grad():\n",
    "    for data in testloader:\n",
    "        inputs, labels = data\n",
    "        \n",
    "        # reshape inputs\n",
    "        inputs = inputs.view(-1, 784)\n",
    "        \n",
    "        # send to gpu\n",
    "        inputs = inputs.to(device)\n",
    "        labels = labels.to(device)\n",
    "        \n",
    "        # convert to h\n",
    "        rmb.eval()\n",
    "        h = rmb.visible_to_hidden(inputs)\n",
    "        \n",
    "        outputs = net(h)\n",
    "        _, predicted = torch.max(outputs.data, 1)\n",
    "        total += labels.size(0)\n",
    "        correct += (predicted == labels).sum().item()\n",
    "\n",
    "print(f'Accuracy of the network on the 10000 test images: {float(correct) / float(total)}')"
   ]
  },
  {
   "cell_type": "code",
   "execution_count": null,
   "metadata": {},
   "outputs": [],
   "source": []
  }
 ],
 "metadata": {
  "kernelspec": {
   "display_name": "Python 3",
   "language": "python",
   "name": "python3"
  },
  "language_info": {
   "codemirror_mode": {
    "name": "ipython",
    "version": 3
   },
   "file_extension": ".py",
   "mimetype": "text/x-python",
   "name": "python",
   "nbconvert_exporter": "python",
   "pygments_lexer": "ipython3",
   "version": "3.7.3"
  }
 },
 "nbformat": 4,
 "nbformat_minor": 2
}
